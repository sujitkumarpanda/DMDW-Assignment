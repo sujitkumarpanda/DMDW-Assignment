1. Define a two dimensional. Concatenate both of them
In [5]:
import numpy as np
x = np.array([[1,2,3],[4,5,6]])
y = np.array([[11,12,13],[14,15,16]])
z = np.concatenate((x,y))
z
Out[5]:
array([[ 1,  2,  3],
       [ 4,  5,  6],
       [11, 12, 13],
       [14, 15, 16]])
2. Create a dataframe (3x4) with random integers with explicit indexing.Peform sin(df*pi/4) operation over the dataframe.Substract first value of the dataframe from each elements of the dataframe.Substract first row of the dataframe from each rows of the dataframe.
In [9]:
import pandas as pd
df = pd.DataFrame(np.random.randint(0,100,size = (3,4)),columns = ['A','B','C','D'])
print(df)
np.sin(df*np.pi/4)
first_value = df.iloc[0][0]
print(df.subtract(first_value,axis =1))
first_row = df.iloc[0]
print(df.subtract(first_row,axis=1))
    A   B   C   D
0  10  49  99  49
1   7  91  29  88
2  10  48  37  71
   A   B   C   D
0  0  39  89  39
1 -3  81  19  78
2  0  38  27  61
   A   B   C   D
0  0   0   0   0
1 -3  42 -70  39
2  0  -1 -62  22
3. Write a python program to read a csv file using pandas dataframe then dislay the first 8 rows of the data and also display the last 7 rows of teh data.Get and display the data types used in this data.Get and display the unique values available under a particular attribute.
In [10]:
iris = pd.read_csv("iris.csv")
iris.head(8)
Out[10]:
sepal.length	sepal.width	petal.length	petal.width	variety
0	5.1	3.5	1.4	0.2	Setosa
1	4.9	3.0	1.4	0.2	Setosa
2	4.7	3.2	1.3	0.2	Setosa
3	4.6	3.1	1.5	0.2	Setosa
4	5.0	3.6	1.4	0.2	Setosa
5	5.4	3.9	1.7	0.4	Setosa
6	4.6	3.4	1.4	0.3	Setosa
7	5.0	3.4	1.5	0.2	Setosa
In [11]:
iris.tail(7)
Out[11]:
sepal.length	sepal.width	petal.length	petal.width	variety
143	6.8	3.2	5.9	2.3	Virginica
144	6.7	3.3	5.7	2.5	Virginica
145	6.7	3.0	5.2	2.3	Virginica
146	6.3	2.5	5.0	1.9	Virginica
147	6.5	3.0	5.2	2.0	Virginica
148	6.2	3.4	5.4	2.3	Virginica
149	5.9	3.0	5.1	1.8	Virginica
In [12]:
iris.dtypes
Out[12]:
sepal.length    float64
sepal.width     float64
petal.length    float64
petal.width     float64
variety          object
dtype: object
4. Write a python program to read a dataset using pandas dataframe.Next check if there exist any duplicate value and idf exist any duplicate values then remove the duplicate value
In [15]:
df2 = pd.read_csv("iris.csv")
duplicate = df2[df2.duplicated()]
duplicate
Out[15]:
sepal.length	sepal.width	petal.length	petal.width	variety
142	5.8	2.7	5.1	1.9	Virginica
In [18]:
df2.drop_duplicates(keep=False, inplace=True)
In [19]:
df2
Out[19]:
sepal.length	sepal.width	petal.length	petal.width	variety
0	5.1	3.5	1.4	0.2	Setosa
1	4.9	3.0	1.4	0.2	Setosa
2	4.7	3.2	1.3	0.2	Setosa
3	4.6	3.1	1.5	0.2	Setosa
4	5.0	3.6	1.4	0.2	Setosa
...	...	...	...	...	...
145	6.7	3.0	5.2	2.3	Virginica
146	6.3	2.5	5.0	1.9	Virginica
147	6.5	3.0	5.2	2.0	Virginica
148	6.2	3.4	5.4	2.3	Virginica
149	5.9	3.0	5.1	1.8	Virginica