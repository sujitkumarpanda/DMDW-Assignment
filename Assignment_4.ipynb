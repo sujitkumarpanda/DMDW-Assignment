{
  "nbformat": 4,
  "nbformat_minor": 0,
  "metadata": {
    "colab": {
      "name": "Assignment-4.ipynb",
      "private_outputs": true,
      "provenance": []
    },
    "kernelspec": {
      "name": "python3",
      "display_name": "Python 3"
    },
    "language_info": {
      "name": "python"
    }
  },
  "cells": [
    {
      "cell_type": "code",
      "metadata": {
        "id": "aQjhw7XoW_AP"
      },
      "source": [
        "import pandas as pd\n",
        "import numpy as np\n",
        "import matplotlib.pyplot as plt"
      ],
      "execution_count": null,
      "outputs": []
    },
    {
      "cell_type": "markdown",
      "metadata": {
        "id": "FXXdMAaiXMfn"
      },
      "source": [
        "\n",
        "1. Read iris.csv using pandas dataframe , next perform Histogram , Line plot and box plot over the dataset."
      ]
    },
    {
      "cell_type": "code",
      "metadata": {
        "id": "UdmZ4bPfXPJ7"
      },
      "source": [
        "from google.colab import files\n",
        "uploaded=files.upload()\n",
        "iris = pd.read_csv(\"iris.csv\")\n",
        "iris"
      ],
      "execution_count": null,
      "outputs": []
    },
    {
      "cell_type": "code",
      "metadata": {
        "id": "kcB4i98KXlKp"
      },
      "source": [
        "iris.plot()"
      ],
      "execution_count": null,
      "outputs": []
    },
    {
      "cell_type": "code",
      "metadata": {
        "id": "12fwzGg7Xm9K"
      },
      "source": [
        "iris.hist();"
      ],
      "execution_count": null,
      "outputs": []
    },
    {
      "cell_type": "code",
      "metadata": {
        "id": "o9crOAgMXsFg"
      },
      "source": [
        "iris.boxplot()"
      ],
      "execution_count": null,
      "outputs": []
    },
    {
      "cell_type": "markdown",
      "metadata": {
        "id": "GkPwgHypXujH"
      },
      "source": [
        "2. Lets assume pre = np.array([19,6,11,9]) and post = np.array([15,11,9,8]) are the two Numpy array, plot two array as side byside bar plot."
      ]
    },
    {
      "cell_type": "code",
      "metadata": {
        "id": "pq7yhO4SXvP5"
      },
      "source": [
        "X = ['Group A','Group B','Group C','Group D']\n",
        "pre = np.array([19,6,11,9])\n",
        "post = np.array([15,11,9,8])\n",
        "  \n",
        "X_axis = np.arange(len(X))\n",
        "  \n",
        "plt.bar(X_axis - 0.2, pre, 0.4, label = 'Pre')\n",
        "plt.bar(X_axis + 0.2, post, 0.4, label = 'Post')\n",
        "  \n",
        "plt.xticks(X_axis, X)\n",
        "plt.xlabel(\"PRE\")\n",
        "plt.ylabel(\"POST\")\n",
        "plt.title(\"PRE-POST PLOT\")\n",
        "plt.legend()\n",
        "plt.show()"
      ],
      "execution_count": null,
      "outputs": []
    },
    {
      "cell_type": "markdown",
      "metadata": {
        "id": "Juvnyj7GXzoY"
      },
      "source": [
        "3. Generate three numpy arrays (X1,X2,X3) by geeting 20 equidistance points between 0-100. Next convert this array into Y1,Y2,Y3 by applying sin,cos and tan function over X1,X2,X3 respectively.Finally,plot these multiple lines over the same axis on a line plot graph."
      ]
    },
    {
      "cell_type": "code",
      "metadata": {
        "id": "tmYWxhlGX0aK"
      },
      "source": [
        "x1 = np.linspace(0,100,20)\n",
        "x1"
      ],
      "execution_count": null,
      "outputs": []
    },
    {
      "cell_type": "code",
      "metadata": {
        "id": "WtVrs1uMX4vX"
      },
      "source": [
        "x2 = np.linspace(0,100,20)\n",
        "x2"
      ],
      "execution_count": null,
      "outputs": []
    },
    {
      "cell_type": "code",
      "metadata": {
        "id": "VsFK9l6AX7Qj"
      },
      "source": [
        "x3 = np.linspace(0,100,20)\n",
        "x3"
      ],
      "execution_count": null,
      "outputs": []
    },
    {
      "cell_type": "code",
      "metadata": {
        "id": "tOx5nlmBX-D9"
      },
      "source": [
        "y1 = np.sin(x1)\n",
        "plt.plot(y1)"
      ],
      "execution_count": null,
      "outputs": []
    },
    {
      "cell_type": "code",
      "metadata": {
        "id": "dvEBfXRtYCZr"
      },
      "source": [
        "y2 = np.cos(x2)\n",
        "plt.plot(y2)"
      ],
      "execution_count": null,
      "outputs": []
    },
    {
      "cell_type": "code",
      "metadata": {
        "id": "f3UaoOPbYFc5"
      },
      "source": [
        "y3 = np.tan(x3)\n",
        "plt.plot(y3)"
      ],
      "execution_count": null,
      "outputs": []
    },
    {
      "cell_type": "code",
      "metadata": {
        "id": "-I5p2_Q4YIWr"
      },
      "source": [
        "h = plt.plot(y1,y2,y3)"
      ],
      "execution_count": null,
      "outputs": []
    },
    {
      "cell_type": "markdown",
      "metadata": {
        "id": "hvDDylVaYLEL"
      },
      "source": [
        "4. Write a python program to create a list x =[5,2,9,4,7] and y = [10,5,8,4,2]. Perform the scatter functions over the list x and y.Naming the x-axis and y-axis.GIving a title ot the graph.Show a legend on the plot."
      ]
    },
    {
      "cell_type": "code",
      "metadata": {
        "id": "46NSpb6ZYMCf"
      },
      "source": [
        "x =[5,2,9,4,7]\n",
        "y = [10,5,8,4,2]"
      ],
      "execution_count": null,
      "outputs": []
    },
    {
      "cell_type": "code",
      "metadata": {
        "id": "StPlWLaGYQRs"
      },
      "source": [
        "plt.scatter(x,y)\n",
        "plt.title(\"XY - Scatter plot\")\n",
        "plt.xlabel(\"X-axis\")\n",
        "plt.ylabel(\"Y-axis\")\n",
        "plt.legend(loc=\"upper left\");"
      ],
      "execution_count": null,
      "outputs": []
    }
  ]
}