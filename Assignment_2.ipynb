{
  "nbformat": 4,
  "nbformat_minor": 0,
  "metadata": {
    "colab": {
      "name": "Assignment-2.ipynb",
      "private_outputs": true,
      "provenance": []
    },
    "kernelspec": {
      "name": "python3",
      "display_name": "Python 3"
    },
    "language_info": {
      "name": "python"
    },
    "accelerator": "GPU"
  },
  "cells": [
    {
      "cell_type": "markdown",
      "metadata": {
        "id": "bQroof_mRVsN"
      },
      "source": [
        "1. Download a dataset from kaggle and upload it in google colab or jupyter notebook. Perform any random operation on the dataset"
      ]
    },
    {
      "cell_type": "code",
      "metadata": {
        "id": "SjpxPt5XRe9f"
      },
      "source": [
        "import pandas as pd\n",
        "from google.colab import files\n",
        "uploaded=files.upload()\n",
        "x = pd.read_csv(\"iris.csv\")\n",
        "print(x.head())"
      ],
      "execution_count": null,
      "outputs": []
    },
    {
      "cell_type": "markdown",
      "metadata": {
        "id": "xKFFU9b8UODD"
      },
      "source": [
        "\n",
        "2. Defining three random arrays: a one d array(x1), 2d array(x2),and 3d array(x3).Numpy as random number generator , which we willseed with a set value in order to ensure to this code issue.Display the ndim, shape and size of the third array(x3)"
      ]
    },
    {
      "cell_type": "code",
      "metadata": {
        "id": "FW19h3aWVQPW"
      },
      "source": [
        "import numpy as np\n",
        "np.random.seed(0)\n",
        "x1 = np.random.randint(10,size=3)\n",
        "x2 = np.random.randint(10,size = (3,4))\n",
        "x3 = np.random.randint(10,size=(3,4,5))"
      ],
      "execution_count": null,
      "outputs": []
    },
    {
      "cell_type": "code",
      "metadata": {
        "id": "fkpb4cTwVhh7"
      },
      "source": [
        "print(\"x3 ndim: \",x3.ndim)\n",
        "print(\"x3 shape: \",x3.shape)\n",
        "print(\"x3 size: \",x3.size)"
      ],
      "execution_count": null,
      "outputs": []
    },
    {
      "cell_type": "markdown",
      "metadata": {
        "id": "QtD8XtPRVj-6"
      },
      "source": [
        "\n",
        "3. create two numpy array named x and y at integers using range (1 to 10) and (11 to 20) command. Next create a new array 2 by concatenating x and y."
      ]
    },
    {
      "cell_type": "code",
      "metadata": {
        "id": "S4f2UJK-VrXX"
      },
      "source": [
        "x = np.arange(1,10,dtype = int)\n",
        "y = np.arange(11,20,dtype = int)\n",
        "z = np.concatenate((x,y))\n",
        "z"
      ],
      "execution_count": null,
      "outputs": []
    },
    {
      "cell_type": "markdown",
      "metadata": {
        "id": "0Fdw_ZJ0V0eZ"
      },
      "source": [
        "4. Define a 2 dimensional array named x of integers using range(1-10) command.Next perform x+5,x-5,x/5,x^2,x%2,log(x),log2)(x),log10(x) operation over x.Compute some trignometric functions(sin,cos,tan) on x."
      ]
    },
    {
      "cell_type": "code",
      "metadata": {
        "id": "La8q5EguV1OX"
      },
      "source": [
        "import numpy as np\n",
        "x = np.arange(1,10,dtype = int)\n",
        "print(\"x+5: \",x+5)\n",
        "print(\"x-5: \",x-5)\n",
        "print(\"x/5: \",x/5)\n",
        "print(\"x*5\",x*5)\n",
        "print(\"x^2: \",np.power(x,2))\n",
        "print(\"x%2: \",np.mod(x,2))\n",
        "print(\"log(x): \",np.log(x))\n",
        "print(\"log2(x): \",np.log2(x))\n",
        "print(\"log10(x): \",np.log10(x))\n",
        "print(\"sin: \",np.sin(x))\n",
        "print(\"cos: \",np.cos(x))\n",
        "print(\"tan: \",np.tan(x))"
      ],
      "execution_count": null,
      "outputs": []
    }
  ]
}